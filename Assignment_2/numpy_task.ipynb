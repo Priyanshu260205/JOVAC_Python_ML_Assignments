{
 "cells": [
  {
   "cell_type": "markdown",
   "id": "f018f26d",
   "metadata": {},
   "source": [
    "Part-I Numpy Questions Objective: To build a strong foundation in using NumPy for numerical computations, including creating arrays, performing operations, and leveraging its powerful functionalities.\n",
    "\n",
    "Task 1: Creating Arrays\n",
    "\n",
    "Write a Python program to: --> Create a 1D NumPy array of 10 integers ranging from 1 to 10. --> Create a 2D NumPy array of shape (3, 3) with integers from 1 to 9. --> Create a 3D NumPy array with random floating-point numbers of shape (3, 5, 3).\n",
    "Display the shape, size, and datatype of each array"
   ]
  },
  {
   "cell_type": "code",
   "execution_count": 1,
   "id": "3b742e6c",
   "metadata": {},
   "outputs": [
    {
     "name": "stdout",
     "output_type": "stream",
     "text": [
      "(10,)\n",
      "10\n",
      "<class 'numpy.ndarray'>\n"
     ]
    },
    {
     "data": {
      "text/plain": [
       "array([5, 7, 5, 3, 5, 8, 8, 4, 3, 1], dtype=int32)"
      ]
     },
     "execution_count": 1,
     "metadata": {},
     "output_type": "execute_result"
    }
   ],
   "source": [
    "import numpy as np\n",
    "ls=np.random.randint(1,11,10)\n",
    "print(ls.shape)\n",
    "print(ls.size)\n",
    "print(type(ls))\n",
    "ls"
   ]
  },
  {
   "cell_type": "code",
   "execution_count": 2,
   "id": "252d67b7",
   "metadata": {},
   "outputs": [
    {
     "name": "stdout",
     "output_type": "stream",
     "text": [
      "9\n",
      "(3, 3)\n",
      "<class 'numpy.ndarray'>\n"
     ]
    },
    {
     "data": {
      "text/plain": [
       "array([[9, 7, 2],\n",
       "       [2, 4, 4],\n",
       "       [2, 8, 3]], dtype=int32)"
      ]
     },
     "execution_count": 2,
     "metadata": {},
     "output_type": "execute_result"
    }
   ],
   "source": [
    "import numpy as np\n",
    "ls_2=np.random.randint(1,10,9).reshape(3,3)\n",
    "print(ls_2.size)\n",
    "print(ls_2.shape)\n",
    "print(type(ls_2))\n",
    "ls_2"
   ]
  },
  {
   "cell_type": "code",
   "execution_count": 3,
   "id": "1a77bad3",
   "metadata": {},
   "outputs": [
    {
     "name": "stdout",
     "output_type": "stream",
     "text": [
      "(3, 5, 3)\n",
      "45\n",
      "<class 'numpy.ndarray'>\n"
     ]
    },
    {
     "data": {
      "text/plain": [
       "array([[[0.62498763, 0.47317476, 0.60135208],\n",
       "        [0.86956184, 0.88524431, 0.8343826 ],\n",
       "        [0.9203814 , 0.84851646, 0.99890479],\n",
       "        [0.17658658, 0.63234057, 0.5030363 ],\n",
       "        [0.63108877, 0.32135187, 0.17751996]],\n",
       "\n",
       "       [[0.99678313, 0.48027177, 0.46294185],\n",
       "        [0.25327851, 0.20118673, 0.42587967],\n",
       "        [0.50243967, 0.42269548, 0.42774126],\n",
       "        [0.34390761, 0.30346093, 0.3270707 ],\n",
       "        [0.87012673, 0.16814263, 0.97902469]],\n",
       "\n",
       "       [[0.70503328, 0.72733539, 0.58841267],\n",
       "        [0.18485769, 0.02932075, 0.99104599],\n",
       "        [0.57600593, 0.61252477, 0.66274733],\n",
       "        [0.77764034, 0.84994365, 0.97896515],\n",
       "        [0.08621379, 0.21724842, 0.20749168]]])"
      ]
     },
     "execution_count": 3,
     "metadata": {},
     "output_type": "execute_result"
    }
   ],
   "source": [
    "ls_3=np.random.rand(3,5,3)\n",
    "print(ls_3.shape)\n",
    "print(ls_3.size)\n",
    "print(type(ls_3))\n",
    "ls_3"
   ]
  },
  {
   "cell_type": "markdown",
   "id": "1b08d24d",
   "metadata": {},
   "source": [
    "Task 2: Array Indexing and Slicing:-\n",
    "\n",
    "Create a NumPy array from the following list: -->data = [10, 20, 30, 40, 50, 60, 70, 80, 90]\n",
    "Write a Python program to: -->Retrieve the first three elements of the array. -->Retrieve every alternate element of the array. -->Reverse the array.\n",
    "Perform the above operations and display the results"
   ]
  },
  {
   "cell_type": "code",
   "execution_count": 4,
   "id": "9317b879",
   "metadata": {},
   "outputs": [
    {
     "name": "stdout",
     "output_type": "stream",
     "text": [
      "[10 20 30]\n",
      "[10 30 50 70 90]\n",
      "[90 80 70 60 50 40 30 20 10]\n"
     ]
    }
   ],
   "source": [
    "data = [10, 20, 30, 40, 50, 60, 70, 80, 90]\n",
    "ls_4=np.array(data)\n",
    "print(ls_4[0:3])\n",
    "print(ls_4[::2])\n",
    "print(ls_4[::-1])"
   ]
  },
  {
   "cell_type": "markdown",
   "id": "412518d3",
   "metadata": {},
   "source": [
    "Task 3: Mathematical Operations:-\n",
    "\n",
    "Create two NumPy arrays, A and B, each with 5 random integers between 1 and 20.\n",
    "\n",
    "Write a Python program to:-\n",
    "\n",
    "--> Add, subtract, multiply, and divide the two arrays element-wise. --> Compute the dot product of the arrays. \n",
    "--> Find the mean, median, standard deviation, and variance o--> array A. --> Identify the maximum and minimum values in array B and their indices"
   ]
  },
  {
   "cell_type": "code",
   "execution_count": 5,
   "id": "7c7b9091",
   "metadata": {},
   "outputs": [
    {
     "name": "stdout",
     "output_type": "stream",
     "text": [
      "[ 2  9 11 10  7]\n",
      "[ 1 19  1  5 17]\n",
      "Addition : [ 3 28 12 15 24]\n",
      "Subtraction : [  1 -10  10   5 -10]\n",
      "Multiplication : [  2 171  11  50 119]\n",
      "Division: [ 2.          0.47368421 11.          2.          0.41176471]\n"
     ]
    }
   ],
   "source": [
    "# Add, subtract, multiply, and divide the two arrays element-wise.\n",
    "import numpy as np\n",
    "A=np.random.randint(1,20,5)\n",
    "B=np.random.randint(1,20,5)\n",
    "print(A)\n",
    "print(B)\n",
    "add=A+B\n",
    "sub=A-B\n",
    "mul=A*B\n",
    "div=A/B\n",
    "print(\"Addition :\",add)\n",
    "print(\"Subtraction :\",sub)\n",
    "print(\"Multiplication :\",mul)\n",
    "print(\"Division:\",div)"
   ]
  },
  {
   "cell_type": "code",
   "execution_count": 6,
   "id": "e12afefa",
   "metadata": {},
   "outputs": [
    {
     "name": "stdout",
     "output_type": "stream",
     "text": [
      "[14  6  6  4  3]\n",
      "[7 2 4 6 6]\n",
      "176\n"
     ]
    }
   ],
   "source": [
    "# Compute the dot product of the arrays.\n",
    "A=np.random.randint(1,20,5)\n",
    "B=np.random.randint(1,20,5)\n",
    "print(A)\n",
    "print(B)\n",
    "dot_product = np.dot(A, B)\n",
    "print(dot_product)"
   ]
  },
  {
   "cell_type": "code",
   "execution_count": 7,
   "id": "a673cc84",
   "metadata": {},
   "outputs": [
    {
     "name": "stdout",
     "output_type": "stream",
     "text": [
      "[ 7 12 12  1  3]\n",
      "Mean : 7.0\n",
      "Median : 7.0\n",
      "Standard deviation : 4.516635916254486\n",
      "Varience : 20.4\n"
     ]
    }
   ],
   "source": [
    "# Find the mean, median, standard deviation, and variance o--> array A.\n",
    "A=np.random.randint(1,20,5)\n",
    "B=np.random.randint(1,20,5)\n",
    "print(A)\n",
    "print(\"Mean :\",np.mean(A))\n",
    "print(\"Median :\",np.median(A))\n",
    "print(\"Standard deviation :\",np.std(A))\n",
    "print(\"Varience :\",np.var(A))"
   ]
  },
  {
   "cell_type": "code",
   "execution_count": 8,
   "id": "75c81934",
   "metadata": {},
   "outputs": [
    {
     "name": "stdout",
     "output_type": "stream",
     "text": [
      "[ 5  6 10  1  7  6  9  2  9  3  5  2]\n",
      "2D Array of Size 4X3\n",
      "[[ 5  6 10]\n",
      " [ 1  7  6]\n",
      " [ 9  2  9]\n",
      " [ 3  5  2]]\n",
      "3D Array of Size 2X2X3  \n",
      "[[[ 5  6 10]\n",
      "  [ 1  7  6]]\n",
      "\n",
      " [[ 9  2  9]\n",
      "  [ 3  5  2]]]\n",
      "Transpose of 2D Array and its shape\n",
      "(3, 4)\n",
      "Transpose of 2D Array\n",
      "[[ 5  1  9  3]\n",
      " [ 6  7  2  5]\n",
      " [10  6  9  2]]\n"
     ]
    }
   ],
   "source": [
    "ls_5=np.random.randint(1,12,12)\n",
    "print(ls_5)\n",
    "print(\"2D Array of Size 4X3\")\n",
    "print(ls_5.reshape(4,3))\n",
    "print(\"3D Array of Size 2X2X3  \")\n",
    "print(ls_5.reshape(2,2,3))\n",
    "print(\"Transpose of 2D Array and its shape\")\n",
    "print(np.transpose(ls_5.reshape(4,3)).shape)\n",
    "print(\"Transpose of 2D Array\")\n",
    "print(np.transpose(ls_5.reshape(4,3)))"
   ]
  },
  {
   "cell_type": "markdown",
   "id": "21c5567a",
   "metadata": {},
   "source": [
    "Task 5: Boolean Masking and Filtering:-\n",
    "\n",
    "Create a NumPy array with 15 random integers between 10 and 50.\n",
    "Write a Python program to: \n",
    "\n",
    "-->Find all elements greater than 25. -->Replace all elements less than 30 with 0. \n",
    "-->Count the number of elements divisible by 5."
   ]
  },
  {
   "cell_type": "code",
   "execution_count": 10,
   "id": "797f0ea1",
   "metadata": {},
   "outputs": [
    {
     "name": "stdout",
     "output_type": "stream",
     "text": [
      "[26 26 20 16 41 48 18 16 24 22 23 39 45 35 13]\n",
      "Numbers Greater than 25 :\n",
      "[26 26 41 48 39 45 35]\n",
      "Replacing all elements less than 30 with 0 :\n",
      "[ 0  0  0  0 41 48  0  0  0  0  0 39 45 35  0]\n",
      "number of  elements divisible by 5\n",
      "12\n",
      "number of nonZero elements divisible by 5\n",
      "2\n"
     ]
    }
   ],
   "source": [
    "ls_6=np.random.randint(10,50,15)\n",
    "print(ls_6)\n",
    "print(\"Numbers Greater than 25 :\")\n",
    "print(ls_6[ls_6 > 25])\n",
    "print(\"Replacing all elements less than 30 with 0 :\")\n",
    "ls_6[ls_6 < 30]=0\n",
    "print(ls_6)\n",
    "print(\"number of  elements divisible by 5\")\n",
    "print(np.count_nonzero(ls_6 % 5==0))\n",
    "print(\"number of nonZero elements divisible by 5\")\n",
    "print(np.count_nonzero(ls_6[ls_6 % 5==0]))"
   ]
  },
  {
   "cell_type": "markdown",
   "id": "bdee99ca",
   "metadata": {},
   "source": [
    "\n",
    "Task 6: Working with Built-in Functions:-\n",
    "\n",
    "Use NumPy's built-in functions to: \n",
    "-->Create an array of 10 equally spaced values between 0 and 1. -->Create an identity matrix of size 4x4. \n",
    "-->Generate a 1D array of 20 random integers between 1 and 100, sort it, and find the 5 largest elements."
   ]
  },
  {
   "cell_type": "code",
   "execution_count": 11,
   "id": "fe7456b6",
   "metadata": {},
   "outputs": [
    {
     "name": "stdout",
     "output_type": "stream",
     "text": [
      "Array of 10 equally spaced values between 0 and 1 \n",
      "\n",
      "[0.         0.11111111 0.22222222 0.33333333 0.44444444 0.55555556\n",
      " 0.66666667 0.77777778 0.88888889 1.        ]\n"
     ]
    }
   ],
   "source": [
    "ls_7=np.linspace(0,1,10)\n",
    "print(\"Array of 10 equally spaced values between 0 and 1 \\n\")\n",
    "print(ls_7)"
   ]
  },
  {
   "cell_type": "code",
   "execution_count": 12,
   "id": "cdf45bb1",
   "metadata": {},
   "outputs": [
    {
     "name": "stdout",
     "output_type": "stream",
     "text": [
      "[[1 0 0 0]\n",
      " [0 1 0 0]\n",
      " [0 0 1 0]\n",
      " [0 0 0 1]]\n"
     ]
    }
   ],
   "source": [
    "print(np.eye(4,dtype=\"int\"))"
   ]
  },
  {
   "cell_type": "code",
   "execution_count": 13,
   "id": "99dad4c5",
   "metadata": {},
   "outputs": [
    {
     "name": "stdout",
     "output_type": "stream",
     "text": [
      "Original Array :-\n",
      "[29 19 94 65 32 22 29  2 58 68 54 48 71 40 51 13 96 20 81 91]\n",
      "Sorted Array :-\n",
      "[ 2 13 19 20 22 29 29 32 40 48 51 54 58 65 68 71 81 91 94 96]\n",
      "5 largest elements\n",
      "[96 94 91 81 71]\n"
     ]
    }
   ],
   "source": [
    "ls_8=np.random.randint(1,100,20)\n",
    "print(\"Original Array :-\")\n",
    "print(ls_8)\n",
    "print(\"Sorted Array :-\")\n",
    "print(np.sort(ls_8))\n",
    "print(\"5 largest elements\")\n",
    "print(np.sort(ls_8)[-5:][::-1])"
   ]
  },
  {
   "cell_type": "markdown",
   "id": "6cc94588",
   "metadata": {},
   "source": [
    "Task 7: Generic:-\n",
    "\n",
    "Create a Python program that: \n",
    "-->Generates two large random arrays of size (100, 100). \n",
    "-->Performs matrix multiplication on the two arrays. \n",
    "-->Finds the determinant and inverse of the resulting matrix (if possible). \n",
    "-->Measures the time taken to complete these operations."
   ]
  },
  {
   "cell_type": "code",
   "execution_count": 14,
   "id": "49a8b2ac",
   "metadata": {},
   "outputs": [
    {
     "name": "stdout",
     "output_type": "stream",
     "text": [
      "Operation Start time :1753090087.0364754 \n",
      "\n",
      "Matrix multiplication completed.\n",
      "\n",
      "[[23.45423047 24.68759986 22.70494983 ... 23.55414596 23.53352209\n",
      "  21.40439754]\n",
      " [24.50128505 25.58268215 24.09019716 ... 25.1567573  26.32131864\n",
      "  24.38494622]\n",
      " [21.18876149 23.06493949 23.36212051 ... 24.4839029  22.7912483\n",
      "  19.86651115]\n",
      " ...\n",
      " [25.5624952  25.01570528 26.00251227 ... 25.97865889 25.00179149\n",
      "  23.73454548]\n",
      " [25.8547588  26.36209775 24.15262579 ... 26.5874307  25.98642268\n",
      "  24.67395193]\n",
      " [25.2210993  28.17334039 23.96965738 ... 27.81210021 25.20868251\n",
      "  23.87595564]] \n",
      "\n",
      "Determinant of the result: 2.5608817389127715e+51 \n",
      "\n",
      "Operation end time :1753090087.4429982 \n",
      "\n",
      "Matrix is invertible.\n",
      "Inverse matrix calculated successfully.\n",
      "[[ 2.00926473 -2.12212466 -1.23988732 ...  1.86960332  0.73105424\n",
      "   0.80597997]\n",
      " [ 3.46196927 -1.40663916 -2.18101426 ...  2.20269046  1.17756772\n",
      "   0.76835148]\n",
      " [-0.94333803  0.39149467  0.3430767  ...  0.78827016 -0.44164315\n",
      "  -0.41397007]\n",
      " ...\n",
      " [-4.22012144 -0.21457668  2.79590639 ... -1.39692146 -2.09305999\n",
      "  -0.75427569]\n",
      " [-1.81974815 -0.44962515  1.43574879 ... -0.71053193 -0.80716096\n",
      "   0.08312446]\n",
      " [-1.29465854  0.16910089  0.83363465 ... -1.36173829 -0.45782786\n",
      "  -0.26911632]] \n",
      "\n",
      "Time taken: 0.4065 seconds\n"
     ]
    }
   ],
   "source": [
    "import time\n",
    "\n",
    "# Step 1: Generate two random 100x100 arrays\n",
    "A = np.random.rand(100, 100)\n",
    "B = np.random.rand(100, 100)\n",
    "\n",
    "# Step 2: Start the timer\n",
    "start_time = time.time()\n",
    "print(f\"Operation Start time :{start_time} \\n\")\n",
    "\n",
    "# Step 3: Matrix multiplication\n",
    "C = np.dot(A, B)\n",
    "print(\"Matrix multiplication completed.\\n\")\n",
    "print(C,\"\\n\")\n",
    "\n",
    "\n",
    "# Step 4: Calculate determinant\n",
    "det_C = np.linalg.det(C)\n",
    "print(f\"Determinant of the result: {det_C} \\n\")\n",
    "\n",
    "\n",
    "# Step 5: Try to calculate inverse if determinant is not zero\n",
    "if np.isclose(det_C, 0):\n",
    "    inverse_C = None\n",
    "    invertible = False\n",
    "else:\n",
    "    inverse_C = np.linalg.inv(C)\n",
    "    invertible = True\n",
    "    \n",
    "# Step 6: End the timer\n",
    "end_time = time.time()\n",
    "print(f\"Operation end time :{end_time} \\n\")\n",
    "\n",
    "elapsed_time = end_time - start_time\n",
    "\n",
    "# Step 7: Print results\n",
    "print(\"Matrix is invertible.\" if invertible else \"Matrix is not invertible.\")\n",
    "if invertible:\n",
    "    print(\"Inverse matrix calculated successfully.\")\n",
    "    print(inverse_C,\"\\n\")\n",
    "print(f\"Time taken: {elapsed_time:.4f} seconds\")"
   ]
  }
 ],
 "metadata": {
  "kernelspec": {
   "display_name": "Python 3",
   "language": "python",
   "name": "python3"
  },
  "language_info": {
   "codemirror_mode": {
    "name": "ipython",
    "version": 3
   },
   "file_extension": ".py",
   "mimetype": "text/x-python",
   "name": "python",
   "nbconvert_exporter": "python",
   "pygments_lexer": "ipython3",
   "version": "3.11.9"
  }
 },
 "nbformat": 4,
 "nbformat_minor": 5
}
