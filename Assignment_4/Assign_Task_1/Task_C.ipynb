{
 "cells": [
  {
   "cell_type": "markdown",
   "id": "45d465f6",
   "metadata": {},
   "source": [
    "\n",
    "Task 3: Feature Scaling and Normalization:-\n",
    "\n",
    "● Demonstrate the effect of standardizing features using StandardScaler. \n",
    "● Compare model performance before and after scaling."
   ]
  },
  {
   "cell_type": "code",
   "execution_count": 1,
   "id": "1bb8b614",
   "metadata": {},
   "outputs": [],
   "source": [
    "import numpy as np\n",
    "from sklearn.datasets import fetch_california_housing\n",
    "from sklearn.linear_model import LinearRegression\n",
    "from sklearn.model_selection import train_test_split\n",
    "from sklearn.preprocessing import StandardScaler\n",
    "from sklearn.metrics import mean_squared_error"
   ]
  },
  {
   "cell_type": "code",
   "execution_count": 2,
   "id": "2c1ee11c",
   "metadata": {},
   "outputs": [],
   "source": [
    "# 1. Load dataset\n",
    "housing = fetch_california_housing()\n",
    "X = housing.data\n",
    "y = housing.target"
   ]
  },
  {
   "cell_type": "code",
   "execution_count": 3,
   "id": "2975eaa3",
   "metadata": {},
   "outputs": [],
   "source": [
    "# 2. Split dataset\n",
    "X_train, X_test, y_train, y_test = train_test_split(\n",
    "    X, y, test_size=0.2, random_state=42\n",
    ")"
   ]
  },
  {
   "cell_type": "code",
   "execution_count": 5,
   "id": "d2205331",
   "metadata": {},
   "outputs": [],
   "source": [
    "model = LinearRegression()\n",
    "model.fit(X_train, y_train)\n",
    "y_pred = model.predict(X_test)\n",
    "\n",
    "r2_no_scaling = model.score(X_test, y_test)\n",
    "mse_no_scaling = mean_squared_error(y_test, y_pred)\n",
    "rmse_no_scaling = np.sqrt(mse_no_scaling)"
   ]
  },
  {
   "cell_type": "code",
   "execution_count": 6,
   "id": "504f03b8",
   "metadata": {},
   "outputs": [],
   "source": [
    "scaler = StandardScaler()\n",
    "X_train_scaled = scaler.fit_transform(X_train)\n",
    "X_test_scaled = scaler.transform(X_test)\n",
    "\n",
    "model_scaled = LinearRegression()\n",
    "model_scaled.fit(X_train_scaled, y_train)\n",
    "y_pred_scaled = model_scaled.predict(X_test_scaled)\n",
    "\n",
    "r2_scaled = model_scaled.score(X_test_scaled, y_test)\n",
    "mse_scaled = mean_squared_error(y_test, y_pred_scaled)\n",
    "rmse_scaled = np.sqrt(mse_scaled)"
   ]
  },
  {
   "cell_type": "code",
   "execution_count": 7,
   "id": "6cda8047",
   "metadata": {},
   "outputs": [
    {
     "name": "stdout",
     "output_type": "stream",
     "text": [
      "Performance without scaling:\n",
      "R-squared: 0.5758\n",
      "MSE: 0.5559\n",
      "RMSE: 0.7456\n",
      "\n",
      "Performance with StandardScaler:\n",
      "R-squared: 0.5758\n",
      "MSE: 0.5559\n",
      "RMSE: 0.7456\n"
     ]
    }
   ],
   "source": [
    "print(\"Performance without scaling:\")\n",
    "print(f\"R-squared: {r2_no_scaling:.4f}\")\n",
    "print(f\"MSE: {mse_no_scaling:.4f}\")\n",
    "print(f\"RMSE: {rmse_no_scaling:.4f}\\n\")\n",
    "\n",
    "print(\"Performance with StandardScaler:\")\n",
    "print(f\"R-squared: {r2_scaled:.4f}\")\n",
    "print(f\"MSE: {mse_scaled:.4f}\")\n",
    "print(f\"RMSE: {rmse_scaled:.4f}\")"
   ]
  }
 ],
 "metadata": {
  "kernelspec": {
   "display_name": "Python 3",
   "language": "python",
   "name": "python3"
  },
  "language_info": {
   "codemirror_mode": {
    "name": "ipython",
    "version": 3
   },
   "file_extension": ".py",
   "mimetype": "text/x-python",
   "name": "python",
   "nbconvert_exporter": "python",
   "pygments_lexer": "ipython3",
   "version": "3.11.9"
  }
 },
 "nbformat": 4,
 "nbformat_minor": 5
}
