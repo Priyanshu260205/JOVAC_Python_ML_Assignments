{
 "cells": [
  {
   "cell_type": "markdown",
   "id": "b1eb168f",
   "metadata": {},
   "source": [
    "Make a custom exception\n",
    "Make a 2-d array and read and write it in a csv format"
   ]
  },
  {
   "cell_type": "code",
   "execution_count": 1,
   "id": "96dc31c4",
   "metadata": {},
   "outputs": [],
   "source": [
    "# Custom Exception Class\n",
    "class InvalidArrayError(Exception):\n",
    "    def __init__(self, message=\"Array must be 2-dimensional\"):\n",
    "        super().__init__(message)\n"
   ]
  },
  {
   "cell_type": "code",
   "execution_count": 2,
   "id": "8c50bcdb",
   "metadata": {},
   "outputs": [],
   "source": [
    "arr_2d = [\n",
    "    [1, 2, 3],\n",
    "    [4, 5, 6],\n",
    "    [7, 8, 9]\n",
    "]\n"
   ]
  },
  {
   "cell_type": "code",
   "execution_count": 3,
   "id": "86c57a15",
   "metadata": {},
   "outputs": [],
   "source": [
    "import csv\n",
    "\n",
    "def write_to_csv(file, array):\n",
    "    # Check if array is 2D\n",
    "    if not all(isinstance(row, list) for row in array):\n",
    "        raise InvalidArrayError(\"All rows must be lists\")\n",
    "    with open(file, mode='w', newline='') as file1:\n",
    "        writer = csv.writer(file1)\n",
    "        writer.writerows(array)\n",
    "    print(f\"Data written to {file}\")\n"
   ]
  },
  {
   "cell_type": "code",
   "execution_count": 5,
   "id": "24adf03f",
   "metadata": {},
   "outputs": [],
   "source": [
    "def read_from_csv(file):\n",
    "    with open(file, mode='r') as file1:\n",
    "        reader = csv.reader(file1)\n",
    "        array = [list(map(int, row)) for row in reader]\n",
    "    print(f\"Data read from {file}\")\n",
    "    return array\n"
   ]
  },
  {
   "cell_type": "code",
   "execution_count": 6,
   "id": "5ad34d1d",
   "metadata": {},
   "outputs": [
    {
     "name": "stdout",
     "output_type": "stream",
     "text": [
      "Data written to assign.csv\n",
      "Data read from assign.csv\n",
      "2D Array from CSV:\n",
      "[1, 2, 3]\n",
      "[4, 5, 6]\n",
      "[7, 8, 9]\n"
     ]
    }
   ],
   "source": [
    "try:\n",
    "    filename = 'assign.csv'\n",
    "    \n",
    "    # Writing to CSV\n",
    "    write_to_csv(filename, arr_2d)\n",
    "    \n",
    "    # Reading from CSV\n",
    "    new_array = read_from_csv(filename)\n",
    "    print(\"2D Array from CSV:\")\n",
    "    for row in new_array:\n",
    "        print(row)\n",
    "\n",
    "except InvalidArrayError as e:\n",
    "    print(f\"Custom Exception Caught: {e}\")\n"
   ]
  }
 ],
 "metadata": {
  "kernelspec": {
   "display_name": "Python 3",
   "language": "python",
   "name": "python3"
  },
  "language_info": {
   "codemirror_mode": {
    "name": "ipython",
    "version": 3
   },
   "file_extension": ".py",
   "mimetype": "text/x-python",
   "name": "python",
   "nbconvert_exporter": "python",
   "pygments_lexer": "ipython3",
   "version": "3.11.9"
  }
 },
 "nbformat": 4,
 "nbformat_minor": 5
}
